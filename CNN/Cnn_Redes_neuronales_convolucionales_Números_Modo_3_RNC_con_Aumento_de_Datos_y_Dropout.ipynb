{
  "cells": [
    {
      "cell_type": "code",
      "execution_count": null,
      "metadata": {
        "id": "QYMeeusGGrvf"
      },
      "outputs": [],
      "source": [
        "\n",
        "import tensorflow as tf\n",
        "from tensorflow.keras.datasets import mnist\n",
        "import numpy as np\n",
        "from tensorflow.keras.utils import to_categorical\n",
        "\n",
        "#Cargar los datos de MNIST\n",
        "#Aqui lo hago de otra manera porque es mas simple para poder usar el modulo de aumento de datos\n",
        "#de Keras de esta manera\n",
        "(X_entrenamiento, Y_entrenamiento), (X_pruebas, Y_pruebas) = mnist.load_data()"
      ]
    },
    {
      "cell_type": "code",
      "execution_count": null,
      "metadata": {
        "id": "B9gLUzKxQ2X7"
      },
      "outputs": [],
      "source": [
        "#Colocar los datos en la forma correcta que ya hemos visto (1, 28, 28, 1)\n",
        "X_entrenamiento = X_entrenamiento.reshape(X_entrenamiento.shape[0], 28, 28, 1)\n",
        "X_pruebas = X_pruebas.reshape(X_pruebas.shape[0], 28, 28, 1)\n",
        "\n",
        "#Hacer 'one-hot encoding' de los resultados (e.g. en lugar de tener como resultado una sola neurona, tendre 10 donde solo el resultado correcto sera 1 y el resto 0)\n",
        "Y_entrenamiento = to_categorical(Y_entrenamiento)\n",
        "Y_pruebas = to_categorical(Y_pruebas)\n",
        "\n",
        "#Convertir a flotante y normalizar para que aprenda mejor la red\n",
        "X_entrenamiento = X_entrenamiento.astype('float32') / 255\n",
        "X_pruebas = X_pruebas.astype('float32') / 255"
      ]
    },
    {
      "cell_type": "code",
      "execution_count": null,
      "metadata": {
        "id": "wQR7QRp_ICYO"
      },
      "outputs": [],
      "source": [
        "#Codigo para mostrar imagenes del set, no es necesario ejecutarlo, solo imprime unos numeros :)\n",
        "import matplotlib.pyplot as plt\n",
        "filas = 2\n",
        "columnas = 8\n",
        "num = filas*columnas\n",
        "imagenes = X_entrenamiento[0:num]\n",
        "etiquetas = Y_entrenamiento[0:num]\n",
        "fig, axes = plt.subplots(filas, columnas, figsize=(1.5*columnas,2*filas))\n",
        "for i in range(num):\n",
        "     ax = axes[i//columnas, i%columnas]\n",
        "     ax.imshow(imagenes[i].reshape(28,28), cmap='gray_r')\n",
        "     ax.set_title('Label: {}'.format(np.argmax(etiquetas[i])))\n",
        "plt.tight_layout()\n",
        "plt.show()"
      ]
    },
    {
      "cell_type": "code",
      "execution_count": null,
      "metadata": {
        "id": "WvW96S3NQ9bN"
      },
      "outputs": [],
      "source": [
        "#Aumento de datos\n",
        "#Variables para controlar las transformaciones que se haran en el aumento de datos\n",
        "#utilizando ImageDataGenerator de keras\n",
        "\n",
        "from tensorflow.keras.preprocessing.image import ImageDataGenerator\n",
        "\n",
        "rango_rotacion = 30\n",
        "mov_ancho = 0.25\n",
        "mov_alto = 0.25\n",
        "#rango_inclinacion=15 #No uso este de momento pero si quieres puedes probar usandolo!\n",
        "rango_acercamiento=[0.5,1.5]\n",
        "\n",
        "datagen = ImageDataGenerator(\n",
        "    rotation_range = rango_rotacion,\n",
        "    width_shift_range = mov_ancho,\n",
        "    height_shift_range = mov_alto,\n",
        "    zoom_range=rango_acercamiento,\n",
        "    #shear_range=rango_inclinacion #No uso este de momento pero si quieres puedes probar usandolo!\n",
        ")\n",
        "\n",
        "datagen.fit(X_entrenamiento)"
      ]
    },
    {
      "cell_type": "code",
      "execution_count": null,
      "metadata": {
        "id": "ieoOy8Kp_DSL"
      },
      "outputs": [],
      "source": [
        "#Codigo para mostrar imagenes del set, no es necesario ejecutarlo, solo imprime como se ven antes y despues de las transformaciones\n",
        "filas = 4\n",
        "columnas = 8\n",
        "num = filas*columnas\n",
        "print('ANTES:\\n')\n",
        "fig1, axes1 = plt.subplots(filas, columnas, figsize=(1.5*columnas,2*filas))\n",
        "for i in range(num):\n",
        "     ax = axes1[i//columnas, i%columnas]\n",
        "     ax.imshow(X_entrenamiento[i].reshape(28,28), cmap='gray_r')\n",
        "     ax.set_title('Label: {}'.format(np.argmax(Y_entrenamiento[i])))\n",
        "plt.tight_layout()\n",
        "plt.show()\n",
        "print('DESPUES:\\n')\n",
        "fig2, axes2 = plt.subplots(filas, columnas, figsize=(1.5*columnas,2*filas))\n",
        "for X, Y in datagen.flow(X_entrenamiento,Y_entrenamiento.reshape(Y_entrenamiento.shape[0], 10),batch_size=num,shuffle=False):\n",
        "     for i in range(0, num):\n",
        "          ax = axes2[i//columnas, i%columnas]\n",
        "          ax.imshow(X[i].reshape(28,28), cmap='gray_r')\n",
        "          ax.set_title('Label: {}'.format(int(np.argmax(Y[i]))))\n",
        "     break\n",
        "plt.tight_layout()\n",
        "plt.show()"
      ]
    },
    {
      "cell_type": "code",
      "execution_count": null,
      "metadata": {
        "id": "rAdy4jCLRIWn"
      },
      "outputs": [],
      "source": [
        "#Modelo!\n",
        "modelo = tf.keras.models.Sequential([\n",
        "    tf.keras.layers.Conv2D(32, (3,3), activation='relu', input_shape=(28, 28, 1)),\n",
        "    tf.keras.layers.MaxPooling2D(2, 2),\n",
        "\n",
        "    tf.keras.layers.Conv2D(64, (3,3), activation='relu'),\n",
        "    tf.keras.layers.MaxPooling2D(2,2),\n",
        "\n",
        "    tf.keras.layers.Dropout(0.5),\n",
        "    tf.keras.layers.Flatten(),\n",
        "    tf.keras.layers.Dense(100, activation='relu'),\n",
        "    tf.keras.layers.Dense(10, activation=\"softmax\")\n",
        "])\n",
        "\n",
        "#Compilación\n",
        "modelo.compile(optimizer='adam',\n",
        "              loss='categorical_crossentropy',\n",
        "              metrics=['accuracy'])"
      ]
    },
    {
      "cell_type": "code",
      "execution_count": null,
      "metadata": {
        "id": "Sa_zjE70RIT2"
      },
      "outputs": [],
      "source": [
        "#Los datos para entrenar saldran del datagen, de manera que sean generados con las transformaciones que indicamos\n",
        "data_gen_entrenamiento = datagen.flow(X_entrenamiento, Y_entrenamiento, batch_size=32)"
      ]
    },
    {
      "cell_type": "code",
      "execution_count": null,
      "metadata": {
        "id": "r9WNLk0xRIQ9"
      },
      "outputs": [],
      "source": [
        "TAMANO_LOTE = 32\n",
        "\n",
        "#Entrenar la red. Toma un buen rato! Ve por un café ;)\n",
        "#Oye suscribete al canal!\n",
        "print(\"Entrenando modelo...\");\n",
        "epocas=60\n",
        "history = modelo.fit(\n",
        "    data_gen_entrenamiento,\n",
        "    epochs=epocas,\n",
        "    batch_size=TAMANO_LOTE,\n",
        "    validation_data=(X_pruebas, Y_pruebas),\n",
        "    steps_per_epoch=int(np.ceil(60000 / float(TAMANO_LOTE))),\n",
        "    validation_steps=int(np.ceil(10000 / float(TAMANO_LOTE)))\n",
        ")\n",
        "\n",
        "print(\"Modelo entrenado!\");"
      ]
    },
    {
      "cell_type": "code",
      "execution_count": null,
      "metadata": {
        "id": "blEfn0ZSM6Fq"
      },
      "outputs": [],
      "source": [
        "modelo.save('numeros_conv_ad_do.h5')\n",
        "\n",
        "#Convertirlo a tensorflow.js\n",
        "!pip install tensorflowjs\n",
        "\n",
        "!mkdir carpeta_salida\n",
        "\n",
        "!tensorflowjs_converter --input_format keras numeros_conv_ad_do.h5 carpeta_salida"
      ]
    }
  ],
  "metadata": {
    "accelerator": "GPU",
    "colab": {
      "provenance": []
    },
    "kernelspec": {
      "display_name": "Python 3",
      "language": "python",
      "name": "python3"
    },
    "language_info": {
      "name": "python",
      "version": "3.10.8 (tags/v3.10.8:aaaf517, Oct 11 2022, 16:50:30) [MSC v.1933 64 bit (AMD64)]"
    },
    "vscode": {
      "interpreter": {
        "hash": "946a0cf01342572bc9f6fe0b7b06226e03099b1e781d9982757128fc69dddf14"
      }
    }
  },
  "nbformat": 4,
  "nbformat_minor": 0
}
