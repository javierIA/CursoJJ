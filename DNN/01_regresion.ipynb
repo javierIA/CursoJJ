{
  "cells": [
    {
      "cell_type": "markdown",
      "id": "2c40a54f",
      "metadata": {
        "id": "2c40a54f"
      },
      "source": [
        "# Proceso estándar de regresión\n",
        "\n",
        "1. Separar datos de entrenamiento / prueba\n",
        "2. Normalizar datos / Crear un normalizador\n",
        "3. Crear modelo (NN)\n",
        "4. Entrenar\n",
        "5. Evaluar resultados"
      ]
    },
    {
      "cell_type": "code",
      "execution_count": 81,
      "id": "33aeb316",
      "metadata": {
        "id": "33aeb316"
      },
      "outputs": [],
      "source": [
        "import pandas as pd\n",
        "import matplotlib.pyplot as plt\n",
        "import numpy as np\n",
        "\n",
        "# Red neuronal secuencial\n",
        "from tensorflow.keras.models import Sequential\n",
        "# Capa completamente conectada\n",
        "from tensorflow.keras.layers import Dense, Normalization\n",
        "# Optimizador\n",
        "from tensorflow.keras.optimizers import Adam"
      ]
    },
    {
      "cell_type": "code",
      "execution_count": 82,
      "id": "0d8e9641",
      "metadata": {
        "id": "0d8e9641"
      },
      "outputs": [],
      "source": [
        "# asegurar que los resultados sean \"reproducibles\"\n",
        "import tensorflow as tf\n",
        "\n",
        "np.random.seed(1234)\n",
        "tf.random.set_seed(1234)"
      ]
    },
    {
      "cell_type": "markdown",
      "id": "6b555f46",
      "metadata": {
        "id": "6b555f46"
      },
      "source": [
        "### Datos de entrenamiento / prueba"
      ]
    },
    {
      "cell_type": "code",
      "execution_count": 83,
      "id": "P7csO2Gl5pz8",
      "metadata": {
        "colab": {
          "base_uri": "https://localhost:8080/"
        },
        "id": "P7csO2Gl5pz8",
        "outputId": "525218a7-5c08-4db2-9f81-72cfedd37511"
      },
      "outputs": [
        {
          "name": "stdout",
          "output_type": "stream",
          "text": [
            "(314, 9)\n",
            "(314,)\n",
            "(78, 9)\n",
            "(78,)\n"
          ]
        }
      ],
      "source": [
        "\n",
        "x_train = pd.read_csv('data_train.csv')\n",
        "#seleciona la ultima columna MPG\n",
        "y_train = x_train.loc[:,'MPG']\n",
        "#seleciona la toda informacion sin la ultima columna MPG\n",
        "x_train=x_train.iloc[:,0:9]\n",
        "\n",
        "x_test = pd.read_csv('data_test.csv')\n",
        "y_test = x_test.loc[:,'MPG']\n",
        "x_test=x_test.iloc[:,0:9]\n",
        "\n",
        "print(x_train.shape)\n",
        "print(y_train.shape)\n",
        "print(x_test.shape)\n",
        "print(y_test.shape)"
      ]
    },
    {
      "cell_type": "markdown",
      "id": "9a0f2db6",
      "metadata": {
        "id": "9a0f2db6"
      },
      "source": [
        "### Normalización"
      ]
    },
    {
      "cell_type": "code",
      "execution_count": 84,
      "id": "22018978",
      "metadata": {
        "id": "22018978"
      },
      "outputs": [],
      "source": [
        "def crear_normalizador(datos):\n",
        "    normalizer = Normalization(axis=-1)\n",
        "    normalizer.adapt(np.array(datos))\n",
        "    return normalizer"
      ]
    },
    {
      "cell_type": "code",
      "execution_count": 85,
      "id": "6f8a21ab",
      "metadata": {
        "id": "6f8a21ab"
      },
      "outputs": [],
      "source": [
        "normalizador = crear_normalizador(x_train)"
      ]
    },
    {
      "cell_type": "markdown",
      "id": "4371ae72",
      "metadata": {
        "id": "4371ae72"
      },
      "source": [
        "### Creación Red Neuronal"
      ]
    },
    {
      "cell_type": "code",
      "execution_count": 86,
      "id": "4e849129",
      "metadata": {
        "id": "4e849129"
      },
      "outputs": [],
      "source": [
        "def crear_nn_regresion(norm):\n",
        "    model = Sequential([\n",
        "        norm,\n",
        "        Dense(32, activation='relu'),\n",
        "        Dense(64, activation='relu'),\n",
        "        Dense(32, activation='relu'),\n",
        "        Dense(1)\n",
        "    ])\n",
        "    model.compile(loss='mean_absolute_error', optimizer=Adam(0.001))\n",
        "    return model"
      ]
    },
    {
      "cell_type": "code",
      "execution_count": 87,
      "id": "2d7139f9",
      "metadata": {
        "id": "2d7139f9"
      },
      "outputs": [],
      "source": [
        "nn = crear_nn_regresion(normalizador)"
      ]
    },
    {
      "cell_type": "markdown",
      "id": "84c33401",
      "metadata": {
        "id": "84c33401"
      },
      "source": [
        "### Entrenamiento del modelo"
      ]
    },
    {
      "cell_type": "code",
      "execution_count": 88,
      "id": "d7a8e74c",
      "metadata": {
        "id": "d7a8e74c",
        "scrolled": true
      },
      "outputs": [],
      "source": [
        "history = nn.fit(\n",
        "    x_train,\n",
        "    y_train,\n",
        "    validation_split=0.2,\n",
        "    verbose=0,\n",
        "    epochs=200\n",
        ")"
      ]
    },
    {
      "cell_type": "markdown",
      "id": "a071e001",
      "metadata": {
        "id": "a071e001"
      },
      "source": [
        "### Evaluar el rendimiento del modelo"
      ]
    },
    {
      "cell_type": "code",
      "execution_count": 89,
      "id": "ab1bc0ac",
      "metadata": {
        "id": "ab1bc0ac"
      },
      "outputs": [
        {
          "data": {
            "text/plain": [
              "1.7655168771743774"
            ]
          },
          "execution_count": 89,
          "metadata": {},
          "output_type": "execute_result"
        }
      ],
      "source": [
        "nn.evaluate(x_test, y_test, verbose=0)"
      ]
    },
    {
      "cell_type": "code",
      "execution_count": 90,
      "id": "ad2ca4da",
      "metadata": {
        "id": "ad2ca4da"
      },
      "outputs": [
        {
          "name": "stdout",
          "output_type": "stream",
          "text": [
            "3/3 [==============================] - 0s 3ms/step\n"
          ]
        }
      ],
      "source": [
        "# Creación de predicciones\n",
        "y_pred = nn.predict(x_test).flatten()"
      ]
    },
    {
      "cell_type": "code",
      "execution_count": 91,
      "id": "5d79d5d9",
      "metadata": {
        "id": "5d79d5d9"
      },
      "outputs": [
        {
          "data": {
            "text/plain": [
              "[<matplotlib.lines.Line2D at 0x1be538e4a00>]"
            ]
          },
          "execution_count": 91,
          "metadata": {},
          "output_type": "execute_result"
        },
        {
          "data": {
            "image/png": "[encoded data removed]",
            "text/plain": [
              "<Figure size 640x480 with 1 Axes>"
            ]
          },
          "metadata": {},
          "output_type": "display_data"
        }
      ],
      "source": [
        "a = plt.axes(aspect='equal')\n",
        "plt.scatter(y_test, y_pred)\n",
        "plt.xlabel('Real [MPG]')\n",
        "plt.ylabel('Prediccion [MPG]')\n",
        "lims = [0, 50]\n",
        "plt.xlim(lims)\n",
        "plt.ylim(lims)\n",
        "plt.plot(lims, lims)"
      ]
    },
    {
      "cell_type": "code",
      "execution_count": 99,
      "id": "4fb6a0cf",
      "metadata": {},
      "outputs": [
        {
          "name": "stderr",
          "output_type": "stream",
          "text": [
            "WARNING:absl:Found untraced functions such as _update_step_xla while saving (showing 1 of 1). These functions will not be directly callable after loading.\n"
          ]
        },
        {
          "name": "stdout",
          "output_type": "stream",
          "text": [
            "INFO:tensorflow:Assets written to: modelo_regresion\\assets\n"
          ]
        },
        {
          "name": "stderr",
          "output_type": "stream",
          "text": [
            "INFO:tensorflow:Assets written to: modelo_regresion\\assets\n"
          ]
        }
      ],
      "source": [
        "# Exportar el modelo\n",
        "nn.save('modelo_regresion')\n",
        "nn.save('modelo_regresion.h5')"
      ]
    },
    {
      "cell_type": "code",
      "execution_count": 107,
      "id": "5bd31856",
      "metadata": {},
      "outputs": [
        {
          "name": "stdout",
          "output_type": "stream",
          "text": [
            "Model: \"sequential_5\"\n",
            "_________________________________________________________________\n",
            " Layer (type)                Output Shape              Param #   \n",
            "=================================================================\n",
            " normalization_5 (Normalizat  (None, 9)                19        \n",
            " ion)                                                            \n",
            "                                                                 \n",
            " dense_20 (Dense)            (None, 32)                320       \n",
            "                                                                 \n",
            " dense_21 (Dense)            (None, 64)                2112      \n",
            "                                                                 \n",
            " dense_22 (Dense)            (None, 32)                2080      \n",
            "                                                                 \n",
            " dense_23 (Dense)            (None, 1)                 33        \n",
            "                                                                 \n",
            "=================================================================\n",
            "Total params: 4,564\n",
            "Trainable params: 4,545\n",
            "Non-trainable params: 19\n",
            "_________________________________________________________________\n",
            "WARNING:tensorflow:Model was constructed with shape (None, None) for input KerasTensor(type_spec=TensorSpec(shape=(None, None), dtype=tf.float32, name='normalization_5_input'), name='normalization_5_input', description=\"created by layer 'normalization_5_input'\"), but it was called on an input with incompatible shape (None,).\n"
          ]
        },
        {
          "name": "stderr",
          "output_type": "stream",
          "text": [
            "WARNING:tensorflow:Model was constructed with shape (None, None) for input KerasTensor(type_spec=TensorSpec(shape=(None, None), dtype=tf.float32, name='normalization_5_input'), name='normalization_5_input', description=\"created by layer 'normalization_5_input'\"), but it was called on an input with incompatible shape (None,).\n"
          ]
        },
        {
          "name": "stdout",
          "output_type": "stream",
          "text": [
            "1/1 [==============================] - 0s 92ms/step\n",
            "[8.978776]\n"
          ]
        }
      ],
      "source": [
        "#probar el modelo exportado con un nuevo conjunto de datos\n",
        "\n",
        "model = tf.keras.models.load_model('modelo_regresion')\n",
        "model.summary()\n",
        "predict = model.predict([8, 350, 165, 3693, 11.5, 70, 1, 0, 0]).flatten()\n",
        "print(predict)"
      ]
    }
  ],
  "metadata": {
    "colab": {
      "provenance": []
    },
    "kernelspec": {
      "display_name": "Python 3",
      "language": "python",
      "name": "python3"
    },
    "language_info": {
      "codemirror_mode": {
        "name": "ipython",
        "version": 3
      },
      "file_extension": ".py",
      "mimetype": "text/x-python",
      "name": "python",
      "nbconvert_exporter": "python",
      "pygments_lexer": "ipython3",
      "version": "3.10.8 (tags/v3.10.8:aaaf517, Oct 11 2022, 16:50:30) [MSC v.1933 64 bit (AMD64)]"
    },
    "vscode": {
      "interpreter": {
        "hash": "946a0cf01342572bc9f6fe0b7b06226e03099b1e781d9982757128fc69dddf14"
      }
    }
  },
  "nbformat": 4,
  "nbformat_minor": 5
}
