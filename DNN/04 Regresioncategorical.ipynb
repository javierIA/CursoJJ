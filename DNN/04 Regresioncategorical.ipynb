{
  "cells": [
    {
      "cell_type": "markdown",
      "id": "2c40a54f",
      "metadata": {
        "id": "2c40a54f"
      },
      "source": [
        "# Proceso estándar de regresión\n",
        "\n",
        "1. Separar datos de entrenamiento / prueba\n",
        "2. Normalizar datos / Crear un normalizador\n",
        "3. Crear modelo (NN)\n",
        "4. Entrenar\n",
        "5. Evaluar resultados"
      ]
    },
    {
      "cell_type": "code",
      "execution_count": 2,
      "id": "33aeb316",
      "metadata": {
        "id": "33aeb316"
      },
      "outputs": [],
      "source": [
        "import pandas as pd\n",
        "import matplotlib.pyplot as plt\n",
        "import numpy as np\n",
        "\n",
        "# Red neuronal secuencial\n",
        "from tensorflow.keras.models import Sequential\n",
        "# Capa completamente conectada\n",
        "from tensorflow.keras.layers import Dense, Normalization\n",
        "# Optimizador\n",
        "from tensorflow.keras.optimizers import Adam"
      ]
    },
    {
      "cell_type": "code",
      "execution_count": 3,
      "id": "0d8e9641",
      "metadata": {
        "id": "0d8e9641"
      },
      "outputs": [],
      "source": [
        "# asegurar que los resultados sean \"reproducibles\"\n",
        "import tensorflow as tf\n",
        "\n",
        "np.random.seed(1234)\n",
        "tf.random.set_seed(1234)"
      ]
    },
    {
      "cell_type": "markdown",
      "id": "6b555f46",
      "metadata": {
        "id": "6b555f46"
      },
      "source": [
        "### Datos de entrenamiento / prueba"
      ]
    },
    {
      "cell_type": "code",
      "execution_count": 6,
      "id": "P7csO2Gl5pz8",
      "metadata": {
        "colab": {
          "base_uri": "https://localhost:8080/"
        },
        "id": "P7csO2Gl5pz8",
        "outputId": "525218a7-5c08-4db2-9f81-72cfedd37511"
      },
      "outputs": [
        {
          "name": "stdout",
          "output_type": "stream",
          "text": [
            "(314, 9)\n",
            "(314,)\n",
            "(78, 9)\n",
            "(78,)\n"
          ]
        }
      ],
      "source": [
        "\n",
        "x_train = pd.read_csv('data_train.csv')\n",
        "#seleciona la ultima columna MPG\n",
        "y_train = x_train.loc[:,'MPG']\n",
        "#seleciona la toda informacion sin la ultima columna MPG\n",
        "x_train=x_train.iloc[:,0:9]\n",
        "\n",
        "x_test = pd.read_csv('data_test.csv')\n",
        "y_test = x_test.loc[:,'MPG']\n",
        "x_test=x_test.iloc[:,0:9]\n",
        "\n",
        "print(x_train.shape)\n",
        "print(y_train.shape)\n",
        "print(x_test.shape)\n",
        "print(y_test.shape)"
      ]
    },
    {
      "cell_type": "markdown",
      "id": "9a0f2db6",
      "metadata": {
        "id": "9a0f2db6"
      },
      "source": [
        "### Normalización"
      ]
    },
    {
      "cell_type": "code",
      "execution_count": 7,
      "id": "22018978",
      "metadata": {
        "id": "22018978"
      },
      "outputs": [],
      "source": [
        "def crear_normalizador(datos):\n",
        "    normalizer = Normalization(axis=-1)\n",
        "    normalizer.adapt(np.array(datos))\n",
        "    return normalizer"
      ]
    },
    {
      "cell_type": "code",
      "execution_count": 8,
      "id": "6f8a21ab",
      "metadata": {
        "id": "6f8a21ab"
      },
      "outputs": [],
      "source": [
        "normalizador = crear_normalizador(x_train)"
      ]
    },
    {
      "cell_type": "markdown",
      "id": "4371ae72",
      "metadata": {
        "id": "4371ae72"
      },
      "source": [
        "### Creación Red Neuronal"
      ]
    },
    {
      "cell_type": "code",
      "execution_count": 24,
      "id": "4e849129",
      "metadata": {
        "id": "4e849129"
      },
      "outputs": [],
      "source": [
        "def crear_nn_regresion(norm):\n",
        "    model = Sequential([\n",
        "        norm,\n",
        "        Dense(32, activation='relu'),\n",
        "        Dense(64, activation='relu'),\n",
        "        Dense(32, activation='relu'),\n",
        "        Dense(64, activation='relu'),\n",
        "        Dense(32, activation='relu'),\n",
        "        Dense(1)\n",
        "    ])\n",
        "    model.compile(loss='mean_absolute_error', optimizer=Adam(0.001))\n",
        "    return model"
      ]
    },
    {
      "cell_type": "code",
      "execution_count": 25,
      "id": "2d7139f9",
      "metadata": {
        "id": "2d7139f9"
      },
      "outputs": [],
      "source": [
        "nn = crear_nn_regresion(normalizador)"
      ]
    },
    {
      "cell_type": "markdown",
      "id": "84c33401",
      "metadata": {
        "id": "84c33401"
      },
      "source": [
        "### Entrenamiento del modelo"
      ]
    },
    {
      "cell_type": "code",
      "execution_count": 26,
      "id": "d7a8e74c",
      "metadata": {
        "id": "d7a8e74c",
        "scrolled": true
      },
      "outputs": [
        {
          "name": "stdout",
          "output_type": "stream",
          "text": [
            "Epoch 1/100\n",
            "8/8 [==============================] - 1s 32ms/step - loss: 22.9174 - val_loss: 23.0578\n",
            "Epoch 2/100\n",
            "8/8 [==============================] - 0s 10ms/step - loss: 22.1004 - val_loss: 21.7537\n",
            "Epoch 3/100\n",
            "8/8 [==============================] - 0s 13ms/step - loss: 20.3999 - val_loss: 18.9663\n",
            "Epoch 4/100\n",
            "8/8 [==============================] - 0s 9ms/step - loss: 16.6336 - val_loss: 12.9892\n",
            "Epoch 5/100\n",
            "8/8 [==============================] - 0s 10ms/step - loss: 9.4029 - val_loss: 5.3201\n",
            "Epoch 6/100\n",
            "8/8 [==============================] - 0s 10ms/step - loss: 6.7632 - val_loss: 6.0200\n",
            "Epoch 7/100\n",
            "8/8 [==============================] - 0s 8ms/step - loss: 4.5592 - val_loss: 4.0906\n",
            "Epoch 8/100\n",
            "8/8 [==============================] - 0s 9ms/step - loss: 3.9089 - val_loss: 3.4149\n",
            "Epoch 9/100\n",
            "8/8 [==============================] - 0s 9ms/step - loss: 3.4235 - val_loss: 3.1093\n",
            "Epoch 10/100\n",
            "8/8 [==============================] - 0s 9ms/step - loss: 3.0033 - val_loss: 2.9331\n",
            "Epoch 11/100\n",
            "8/8 [==============================] - 0s 8ms/step - loss: 2.7619 - val_loss: 2.6357\n",
            "Epoch 12/100\n",
            "8/8 [==============================] - 0s 8ms/step - loss: 2.5378 - val_loss: 2.4496\n",
            "Epoch 13/100\n",
            "8/8 [==============================] - 0s 7ms/step - loss: 2.3528 - val_loss: 2.3431\n",
            "Epoch 14/100\n",
            "8/8 [==============================] - 0s 11ms/step - loss: 2.2257 - val_loss: 2.2836\n",
            "Epoch 15/100\n",
            "8/8 [==============================] - 0s 9ms/step - loss: 2.1554 - val_loss: 2.2950\n",
            "Epoch 16/100\n",
            "8/8 [==============================] - 0s 12ms/step - loss: 2.0655 - val_loss: 2.1932\n",
            "Epoch 17/100\n",
            "8/8 [==============================] - 0s 10ms/step - loss: 2.0049 - val_loss: 2.1215\n",
            "Epoch 18/100\n",
            "8/8 [==============================] - 0s 10ms/step - loss: 1.9727 - val_loss: 2.0828\n",
            "Epoch 19/100\n",
            "8/8 [==============================] - 0s 8ms/step - loss: 1.9445 - val_loss: 2.2064\n",
            "Epoch 20/100\n",
            "8/8 [==============================] - 0s 11ms/step - loss: 1.8829 - val_loss: 2.0389\n",
            "Epoch 21/100\n",
            "8/8 [==============================] - 0s 11ms/step - loss: 1.8579 - val_loss: 2.2346\n",
            "Epoch 22/100\n",
            "8/8 [==============================] - 0s 11ms/step - loss: 1.9056 - val_loss: 2.0621\n",
            "Epoch 23/100\n",
            "8/8 [==============================] - 0s 17ms/step - loss: 1.8763 - val_loss: 2.0382\n",
            "Epoch 24/100\n",
            "8/8 [==============================] - 0s 8ms/step - loss: 1.8183 - val_loss: 2.1277\n",
            "Epoch 25/100\n",
            "8/8 [==============================] - 0s 9ms/step - loss: 1.7470 - val_loss: 1.9732\n",
            "Epoch 26/100\n",
            "8/8 [==============================] - 0s 7ms/step - loss: 1.7668 - val_loss: 2.0362\n",
            "Epoch 27/100\n",
            "8/8 [==============================] - 0s 8ms/step - loss: 1.7589 - val_loss: 2.3192\n",
            "Epoch 28/100\n",
            "8/8 [==============================] - 0s 7ms/step - loss: 1.8440 - val_loss: 2.1273\n",
            "Epoch 29/100\n",
            "8/8 [==============================] - 0s 7ms/step - loss: 1.8372 - val_loss: 1.9824\n",
            "Epoch 30/100\n",
            "8/8 [==============================] - 0s 8ms/step - loss: 1.7491 - val_loss: 2.1698\n",
            "Epoch 31/100\n",
            "8/8 [==============================] - 0s 9ms/step - loss: 1.7672 - val_loss: 2.0241\n",
            "Epoch 32/100\n",
            "8/8 [==============================] - 0s 8ms/step - loss: 1.7039 - val_loss: 2.0029\n",
            "Epoch 33/100\n",
            "8/8 [==============================] - 0s 7ms/step - loss: 1.7348 - val_loss: 2.1176\n",
            "Epoch 34/100\n",
            "8/8 [==============================] - 0s 8ms/step - loss: 1.6645 - val_loss: 2.1108\n",
            "Epoch 35/100\n",
            "8/8 [==============================] - 0s 11ms/step - loss: 1.6572 - val_loss: 1.9410\n",
            "Epoch 36/100\n",
            "8/8 [==============================] - 0s 9ms/step - loss: 1.7172 - val_loss: 2.0799\n",
            "Epoch 37/100\n",
            "8/8 [==============================] - 0s 8ms/step - loss: 1.6580 - val_loss: 2.0345\n",
            "Epoch 38/100\n",
            "8/8 [==============================] - 0s 9ms/step - loss: 1.6666 - val_loss: 2.0534\n",
            "Epoch 39/100\n",
            "8/8 [==============================] - 0s 8ms/step - loss: 1.6284 - val_loss: 1.9682\n",
            "Epoch 40/100\n",
            "8/8 [==============================] - 0s 9ms/step - loss: 1.5967 - val_loss: 1.9519\n",
            "Epoch 41/100\n",
            "8/8 [==============================] - 0s 8ms/step - loss: 1.6083 - val_loss: 2.0603\n",
            "Epoch 42/100\n",
            "8/8 [==============================] - 0s 8ms/step - loss: 1.5930 - val_loss: 2.1013\n",
            "Epoch 43/100\n",
            "8/8 [==============================] - 0s 9ms/step - loss: 1.5644 - val_loss: 1.9518\n",
            "Epoch 44/100\n",
            "8/8 [==============================] - 0s 9ms/step - loss: 1.5850 - val_loss: 1.9818\n",
            "Epoch 45/100\n",
            "8/8 [==============================] - 0s 8ms/step - loss: 1.5965 - val_loss: 2.0745\n",
            "Epoch 46/100\n",
            "8/8 [==============================] - 0s 8ms/step - loss: 1.5155 - val_loss: 1.9456\n",
            "Epoch 47/100\n",
            "8/8 [==============================] - 0s 8ms/step - loss: 1.5033 - val_loss: 2.0383\n",
            "Epoch 48/100\n",
            "8/8 [==============================] - 0s 20ms/step - loss: 1.4795 - val_loss: 1.9219\n",
            "Epoch 49/100\n",
            "8/8 [==============================] - 0s 12ms/step - loss: 1.5802 - val_loss: 1.9396\n",
            "Epoch 50/100\n",
            "8/8 [==============================] - 0s 8ms/step - loss: 1.5930 - val_loss: 1.9905\n",
            "Epoch 51/100\n",
            "8/8 [==============================] - 0s 7ms/step - loss: 1.5171 - val_loss: 1.9908\n",
            "Epoch 52/100\n",
            "8/8 [==============================] - 0s 8ms/step - loss: 1.5011 - val_loss: 1.9991\n",
            "Epoch 53/100\n",
            "8/8 [==============================] - 0s 9ms/step - loss: 1.4896 - val_loss: 2.0274\n",
            "Epoch 54/100\n",
            "8/8 [==============================] - 0s 12ms/step - loss: 1.4829 - val_loss: 2.0255\n",
            "Epoch 55/100\n",
            "8/8 [==============================] - 0s 8ms/step - loss: 1.5192 - val_loss: 2.0516\n",
            "Epoch 56/100\n",
            "8/8 [==============================] - 0s 8ms/step - loss: 1.4840 - val_loss: 2.0071\n",
            "Epoch 57/100\n",
            "8/8 [==============================] - 0s 14ms/step - loss: 1.4734 - val_loss: 1.9468\n",
            "Epoch 58/100\n",
            "8/8 [==============================] - 0s 9ms/step - loss: 1.5806 - val_loss: 2.0180\n",
            "Epoch 59/100\n",
            "8/8 [==============================] - 0s 8ms/step - loss: 1.4274 - val_loss: 1.9767\n",
            "Epoch 60/100\n",
            "8/8 [==============================] - 0s 8ms/step - loss: 1.4350 - val_loss: 2.2617\n",
            "Epoch 61/100\n",
            "8/8 [==============================] - 0s 7ms/step - loss: 1.6148 - val_loss: 2.0352\n",
            "Epoch 62/100\n",
            "8/8 [==============================] - 0s 9ms/step - loss: 1.5347 - val_loss: 1.9353\n",
            "Epoch 63/100\n",
            "8/8 [==============================] - 0s 9ms/step - loss: 1.4357 - val_loss: 2.0017\n",
            "Epoch 64/100\n",
            "8/8 [==============================] - 0s 7ms/step - loss: 1.6103 - val_loss: 2.2822\n",
            "Epoch 65/100\n",
            "8/8 [==============================] - 0s 7ms/step - loss: 1.6066 - val_loss: 2.0498\n",
            "Epoch 66/100\n",
            "8/8 [==============================] - 0s 8ms/step - loss: 1.5203 - val_loss: 1.9106\n",
            "Epoch 67/100\n",
            "8/8 [==============================] - 0s 8ms/step - loss: 1.5037 - val_loss: 1.9756\n",
            "Epoch 68/100\n",
            "8/8 [==============================] - 0s 8ms/step - loss: 1.5783 - val_loss: 2.0781\n",
            "Epoch 69/100\n",
            "8/8 [==============================] - 0s 12ms/step - loss: 1.4473 - val_loss: 1.9618\n",
            "Epoch 70/100\n",
            "8/8 [==============================] - 0s 9ms/step - loss: 1.4155 - val_loss: 1.9448\n",
            "Epoch 71/100\n",
            "8/8 [==============================] - 0s 12ms/step - loss: 1.3992 - val_loss: 2.0118\n",
            "Epoch 72/100\n",
            "8/8 [==============================] - 0s 10ms/step - loss: 1.4747 - val_loss: 2.0470\n",
            "Epoch 73/100\n",
            "8/8 [==============================] - 0s 10ms/step - loss: 1.4324 - val_loss: 2.1781\n",
            "Epoch 74/100\n",
            "8/8 [==============================] - 0s 10ms/step - loss: 1.3696 - val_loss: 1.9884\n",
            "Epoch 75/100\n",
            "8/8 [==============================] - 0s 11ms/step - loss: 1.3864 - val_loss: 1.9867\n",
            "Epoch 76/100\n",
            "8/8 [==============================] - 0s 9ms/step - loss: 1.3465 - val_loss: 2.0063\n",
            "Epoch 77/100\n",
            "8/8 [==============================] - 0s 10ms/step - loss: 1.3414 - val_loss: 1.9549\n",
            "Epoch 78/100\n",
            "8/8 [==============================] - 0s 9ms/step - loss: 1.3498 - val_loss: 2.0332\n",
            "Epoch 79/100\n",
            "8/8 [==============================] - 0s 8ms/step - loss: 1.3776 - val_loss: 1.9547\n",
            "Epoch 80/100\n",
            "8/8 [==============================] - 0s 8ms/step - loss: 1.3768 - val_loss: 1.9659\n",
            "Epoch 81/100\n",
            "8/8 [==============================] - 0s 9ms/step - loss: 1.4041 - val_loss: 2.0122\n",
            "Epoch 82/100\n",
            "8/8 [==============================] - 0s 9ms/step - loss: 1.4766 - val_loss: 1.9457\n",
            "Epoch 83/100\n",
            "8/8 [==============================] - 0s 9ms/step - loss: 1.5234 - val_loss: 2.0761\n",
            "Epoch 84/100\n",
            "8/8 [==============================] - 0s 8ms/step - loss: 1.3693 - val_loss: 2.0907\n",
            "Epoch 85/100\n",
            "8/8 [==============================] - 0s 7ms/step - loss: 1.3642 - val_loss: 2.0379\n",
            "Epoch 86/100\n",
            "8/8 [==============================] - 0s 8ms/step - loss: 1.3705 - val_loss: 1.9820\n",
            "Epoch 87/100\n",
            "8/8 [==============================] - 0s 8ms/step - loss: 1.3452 - val_loss: 1.9691\n",
            "Epoch 88/100\n",
            "8/8 [==============================] - 0s 8ms/step - loss: 1.3278 - val_loss: 2.0320\n",
            "Epoch 89/100\n",
            "8/8 [==============================] - 0s 8ms/step - loss: 1.3121 - val_loss: 1.9399\n",
            "Epoch 90/100\n",
            "8/8 [==============================] - 0s 8ms/step - loss: 1.3470 - val_loss: 2.0546\n",
            "Epoch 91/100\n",
            "8/8 [==============================] - 0s 8ms/step - loss: 1.3196 - val_loss: 1.9842\n",
            "Epoch 92/100\n",
            "8/8 [==============================] - 0s 7ms/step - loss: 1.3611 - val_loss: 2.0216\n",
            "Epoch 93/100\n",
            "8/8 [==============================] - 0s 9ms/step - loss: 1.3169 - val_loss: 1.9080\n",
            "Epoch 94/100\n",
            "8/8 [==============================] - 0s 9ms/step - loss: 1.3656 - val_loss: 2.1021\n",
            "Epoch 95/100\n",
            "8/8 [==============================] - 0s 8ms/step - loss: 1.3006 - val_loss: 1.9924\n",
            "Epoch 96/100\n",
            "8/8 [==============================] - 0s 9ms/step - loss: 1.3123 - val_loss: 2.0011\n",
            "Epoch 97/100\n",
            "8/8 [==============================] - 0s 9ms/step - loss: 1.3359 - val_loss: 1.9606\n",
            "Epoch 98/100\n",
            "8/8 [==============================] - 0s 9ms/step - loss: 1.3194 - val_loss: 2.0440\n",
            "Epoch 99/100\n",
            "8/8 [==============================] - 0s 8ms/step - loss: 1.3247 - val_loss: 2.0225\n",
            "Epoch 100/100\n",
            "8/8 [==============================] - 0s 8ms/step - loss: 1.2865 - val_loss: 1.9418\n"
          ]
        }
      ],
      "source": [
        "history = nn.fit(\n",
        "    x_train,\n",
        "    y_train,\n",
        "    validation_split=0.2,\n",
        "    verbose=1,\n",
        "    epochs=100\n",
        ")"
      ]
    },
    {
      "cell_type": "markdown",
      "id": "a071e001",
      "metadata": {
        "id": "a071e001"
      },
      "source": [
        "### Evaluar el rendimiento del modelo"
      ]
    },
    {
      "cell_type": "code",
      "execution_count": 27,
      "id": "ab1bc0ac",
      "metadata": {
        "id": "ab1bc0ac"
      },
      "outputs": [
        {
          "data": {
            "text/plain": [
              "1.902463674545288"
            ]
          },
          "execution_count": 27,
          "metadata": {},
          "output_type": "execute_result"
        }
      ],
      "source": [
        "nn.evaluate(x_test, y_test, verbose=0)"
      ]
    },
    {
      "cell_type": "code",
      "execution_count": 20,
      "id": "ad2ca4da",
      "metadata": {
        "id": "ad2ca4da"
      },
      "outputs": [
        {
          "name": "stdout",
          "output_type": "stream",
          "text": [
            "3/3 [==============================] - 0s 4ms/step\n"
          ]
        }
      ],
      "source": [
        "# Creación de predicciones\n",
        "y_pred = nn.predict(x_test).flatten()"
      ]
    },
    {
      "cell_type": "code",
      "execution_count": 21,
      "id": "5d79d5d9",
      "metadata": {
        "id": "5d79d5d9"
      },
      "outputs": [
        {
          "data": {
            "text/plain": [
              "[<matplotlib.lines.Line2D at 0x19c3a6e0d30>]"
            ]
          },
          "execution_count": 21,
          "metadata": {},
          "output_type": "execute_result"
        },
        {
          "data": {
            "image/png": "[encoded data removed]",
            "text/plain": [
              "<Figure size 640x480 with 1 Axes>"
            ]
          },
          "metadata": {},
          "output_type": "display_data"
        }
      ],
      "source": [
        "a = plt.axes(aspect='equal')\n",
        "plt.scatter(y_test, y_pred)\n",
        "plt.xlabel('Real [MPG]')\n",
        "plt.ylabel('Prediccion [MPG]')\n",
        "lims = [0, 50]\n",
        "plt.xlim(lims)\n",
        "plt.ylim(lims)\n",
        "plt.plot(lims, lims)"
      ]
    },
    {
      "cell_type": "code",
      "execution_count": 22,
      "id": "4fb6a0cf",
      "metadata": {},
      "outputs": [
        {
          "name": "stderr",
          "output_type": "stream",
          "text": [
            "WARNING:absl:Found untraced functions such as _update_step_xla while saving (showing 1 of 1). These functions will not be directly callable after loading.\n"
          ]
        },
        {
          "name": "stdout",
          "output_type": "stream",
          "text": [
            "INFO:tensorflow:Assets written to: modelo_regresion\\assets\n"
          ]
        },
        {
          "name": "stderr",
          "output_type": "stream",
          "text": [
            "INFO:tensorflow:Assets written to: modelo_regresion\\assets\n"
          ]
        }
      ],
      "source": [
        "# Exportar el modelo\n",
        "nn.save('modelo_regresion')\n",
        "nn.save('modelo_regresion.h5')"
      ]
    },
    {
      "cell_type": "code",
      "execution_count": 23,
      "id": "5bd31856",
      "metadata": {},
      "outputs": [
        {
          "name": "stdout",
          "output_type": "stream",
          "text": [
            "Model: \"sequential\"\n",
            "_________________________________________________________________\n",
            " Layer (type)                Output Shape              Param #   \n",
            "=================================================================\n",
            " normalization (Normalizatio  (None, 9)                19        \n",
            " n)                                                              \n",
            "                                                                 \n",
            " dense (Dense)               (None, 32)                320       \n",
            "                                                                 \n",
            " dense_1 (Dense)             (None, 64)                2112      \n",
            "                                                                 \n",
            " dense_2 (Dense)             (None, 32)                2080      \n",
            "                                                                 \n",
            " dense_3 (Dense)             (None, 1)                 33        \n",
            "                                                                 \n",
            "=================================================================\n",
            "Total params: 4,564\n",
            "Trainable params: 4,545\n",
            "Non-trainable params: 19\n",
            "_________________________________________________________________\n",
            "WARNING:tensorflow:Model was constructed with shape (None, None) for input KerasTensor(type_spec=TensorSpec(shape=(None, None), dtype=tf.float32, name='normalization_input'), name='normalization_input', description=\"created by layer 'normalization_input'\"), but it was called on an input with incompatible shape (None,).\n"
          ]
        },
        {
          "name": "stderr",
          "output_type": "stream",
          "text": [
            "WARNING:tensorflow:Model was constructed with shape (None, None) for input KerasTensor(type_spec=TensorSpec(shape=(None, None), dtype=tf.float32, name='normalization_input'), name='normalization_input', description=\"created by layer 'normalization_input'\"), but it was called on an input with incompatible shape (None,).\n"
          ]
        },
        {
          "name": "stdout",
          "output_type": "stream",
          "text": [
            "1/1 [==============================] - 0s 129ms/step\n",
            "[28.83434]\n"
          ]
        }
      ],
      "source": [
        "#probar el modelo exportado con un nuevo conjunto de datos\n",
        "\n",
        "model = tf.keras.models.load_model('modelo_regresion')\n",
        "model.summary()\n",
        "predict = model.predict([8, 350, 165, 3693, 11.5, 70, 1, 0, 0]).flatten()\n",
        "print(predict)"
      ]
    }
  ],
  "metadata": {
    "colab": {
      "provenance": []
    },
    "kernelspec": {
      "display_name": "Python 3",
      "language": "python",
      "name": "python3"
    },
    "language_info": {
      "codemirror_mode": {
        "name": "ipython",
        "version": 3
      },
      "file_extension": ".py",
      "mimetype": "text/x-python",
      "name": "python",
      "nbconvert_exporter": "python",
      "pygments_lexer": "ipython3",
      "version": "3.10.8"
    },
    "vscode": {
      "interpreter": {
        "hash": "946a0cf01342572bc9f6fe0b7b06226e03099b1e781d9982757128fc69dddf14"
      }
    }
  },
  "nbformat": 4,
  "nbformat_minor": 5
}
